{
 "cells": [
  {
   "cell_type": "markdown",
   "id": "0f4dee4f-f0d6-40dc-9334-7ae3893d5d9d",
   "metadata": {},
   "source": [
    "<h3> Beer "
   ]
  },
  {
   "cell_type": "markdown",
   "id": "d2019d37-5c6f-4616-93f7-08447d303d95",
   "metadata": {},
   "source": [
    "<h5> The aim is to explore and analyse data sets provided and feature engineer them in order to obtain reliable predictions"
   ]
  },
  {
   "cell_type": "code",
   "execution_count": 1,
   "id": "55dcd123-292b-4063-8d73-5c383a339798",
   "metadata": {},
   "outputs": [],
   "source": [
    "#Import initial packages\n",
    "import pandas as pd\n",
    "import numpy as np"
   ]
  },
  {
   "cell_type": "markdown",
   "id": "47af757d-228a-46fa-841a-505b3c3d98fd",
   "metadata": {},
   "source": [
    "<h4> 1. Load and Explore Train Dataset"
   ]
  },
  {
   "cell_type": "code",
   "execution_count": 2,
   "id": "cabdfd59-ae6e-43ab-8e2c-e279442ddd60",
   "metadata": {},
   "outputs": [],
   "source": [
    "df = pd.read_csv('../data/raw/beer_reviews.csv')"
   ]
  },
  {
   "cell_type": "code",
   "execution_count": 3,
   "id": "d8d21339-b9b6-4b2f-b0b4-a4de7a064ac6",
   "metadata": {},
   "outputs": [
    {
     "data": {
      "text/plain": [
       "(1586614, 13)"
      ]
     },
     "execution_count": 3,
     "metadata": {},
     "output_type": "execute_result"
    }
   ],
   "source": [
    "df.shape"
   ]
  },
  {
   "cell_type": "code",
   "execution_count": 4,
   "id": "191dac1b-3d12-4064-82eb-7599ea964061",
   "metadata": {},
   "outputs": [
    {
     "name": "stdout",
     "output_type": "stream",
     "text": [
      "<class 'pandas.core.frame.DataFrame'>\n",
      "RangeIndex: 1586614 entries, 0 to 1586613\n",
      "Data columns (total 13 columns):\n",
      " #   Column              Non-Null Count    Dtype  \n",
      "---  ------              --------------    -----  \n",
      " 0   brewery_id          1586614 non-null  int64  \n",
      " 1   brewery_name        1586599 non-null  object \n",
      " 2   review_time         1586614 non-null  int64  \n",
      " 3   review_overall      1586614 non-null  float64\n",
      " 4   review_aroma        1586614 non-null  float64\n",
      " 5   review_appearance   1586614 non-null  float64\n",
      " 6   review_profilename  1586266 non-null  object \n",
      " 7   beer_style          1586614 non-null  object \n",
      " 8   review_palate       1586614 non-null  float64\n",
      " 9   review_taste        1586614 non-null  float64\n",
      " 10  beer_name           1586614 non-null  object \n",
      " 11  beer_abv            1518829 non-null  float64\n",
      " 12  beer_beerid         1586614 non-null  int64  \n",
      "dtypes: float64(6), int64(3), object(4)\n",
      "memory usage: 157.4+ MB\n"
     ]
    }
   ],
   "source": [
    "df.info()"
   ]
  },
  {
   "cell_type": "code",
   "execution_count": 5,
   "id": "028afd79-e6c3-4424-8147-22e51e34a170",
   "metadata": {},
   "outputs": [
    {
     "data": {
      "text/html": [
       "<div>\n",
       "<style scoped>\n",
       "    .dataframe tbody tr th:only-of-type {\n",
       "        vertical-align: middle;\n",
       "    }\n",
       "\n",
       "    .dataframe tbody tr th {\n",
       "        vertical-align: top;\n",
       "    }\n",
       "\n",
       "    .dataframe thead th {\n",
       "        text-align: right;\n",
       "    }\n",
       "</style>\n",
       "<table border=\"1\" class=\"dataframe\">\n",
       "  <thead>\n",
       "    <tr style=\"text-align: right;\">\n",
       "      <th></th>\n",
       "      <th>brewery_id</th>\n",
       "      <th>review_time</th>\n",
       "      <th>review_overall</th>\n",
       "      <th>review_aroma</th>\n",
       "      <th>review_appearance</th>\n",
       "      <th>review_palate</th>\n",
       "      <th>review_taste</th>\n",
       "      <th>beer_abv</th>\n",
       "      <th>beer_beerid</th>\n",
       "    </tr>\n",
       "  </thead>\n",
       "  <tbody>\n",
       "    <tr>\n",
       "      <th>count</th>\n",
       "      <td>1.586614e+06</td>\n",
       "      <td>1.586614e+06</td>\n",
       "      <td>1.586614e+06</td>\n",
       "      <td>1.586614e+06</td>\n",
       "      <td>1.586614e+06</td>\n",
       "      <td>1.586614e+06</td>\n",
       "      <td>1.586614e+06</td>\n",
       "      <td>1.518829e+06</td>\n",
       "      <td>1.586614e+06</td>\n",
       "    </tr>\n",
       "    <tr>\n",
       "      <th>mean</th>\n",
       "      <td>3.130099e+03</td>\n",
       "      <td>1.224089e+09</td>\n",
       "      <td>3.815581e+00</td>\n",
       "      <td>3.735636e+00</td>\n",
       "      <td>3.841642e+00</td>\n",
       "      <td>3.743701e+00</td>\n",
       "      <td>3.792860e+00</td>\n",
       "      <td>7.042387e+00</td>\n",
       "      <td>2.171279e+04</td>\n",
       "    </tr>\n",
       "    <tr>\n",
       "      <th>std</th>\n",
       "      <td>5.578104e+03</td>\n",
       "      <td>7.654427e+07</td>\n",
       "      <td>7.206219e-01</td>\n",
       "      <td>6.976167e-01</td>\n",
       "      <td>6.160928e-01</td>\n",
       "      <td>6.822184e-01</td>\n",
       "      <td>7.319696e-01</td>\n",
       "      <td>2.322526e+00</td>\n",
       "      <td>2.181834e+04</td>\n",
       "    </tr>\n",
       "    <tr>\n",
       "      <th>min</th>\n",
       "      <td>1.000000e+00</td>\n",
       "      <td>8.406720e+08</td>\n",
       "      <td>0.000000e+00</td>\n",
       "      <td>1.000000e+00</td>\n",
       "      <td>0.000000e+00</td>\n",
       "      <td>1.000000e+00</td>\n",
       "      <td>1.000000e+00</td>\n",
       "      <td>1.000000e-02</td>\n",
       "      <td>3.000000e+00</td>\n",
       "    </tr>\n",
       "    <tr>\n",
       "      <th>25%</th>\n",
       "      <td>1.430000e+02</td>\n",
       "      <td>1.173224e+09</td>\n",
       "      <td>3.500000e+00</td>\n",
       "      <td>3.500000e+00</td>\n",
       "      <td>3.500000e+00</td>\n",
       "      <td>3.500000e+00</td>\n",
       "      <td>3.500000e+00</td>\n",
       "      <td>5.200000e+00</td>\n",
       "      <td>1.717000e+03</td>\n",
       "    </tr>\n",
       "    <tr>\n",
       "      <th>50%</th>\n",
       "      <td>4.290000e+02</td>\n",
       "      <td>1.239203e+09</td>\n",
       "      <td>4.000000e+00</td>\n",
       "      <td>4.000000e+00</td>\n",
       "      <td>4.000000e+00</td>\n",
       "      <td>4.000000e+00</td>\n",
       "      <td>4.000000e+00</td>\n",
       "      <td>6.500000e+00</td>\n",
       "      <td>1.390600e+04</td>\n",
       "    </tr>\n",
       "    <tr>\n",
       "      <th>75%</th>\n",
       "      <td>2.372000e+03</td>\n",
       "      <td>1.288568e+09</td>\n",
       "      <td>4.500000e+00</td>\n",
       "      <td>4.000000e+00</td>\n",
       "      <td>4.000000e+00</td>\n",
       "      <td>4.000000e+00</td>\n",
       "      <td>4.500000e+00</td>\n",
       "      <td>8.500000e+00</td>\n",
       "      <td>3.944100e+04</td>\n",
       "    </tr>\n",
       "    <tr>\n",
       "      <th>max</th>\n",
       "      <td>2.800300e+04</td>\n",
       "      <td>1.326285e+09</td>\n",
       "      <td>5.000000e+00</td>\n",
       "      <td>5.000000e+00</td>\n",
       "      <td>5.000000e+00</td>\n",
       "      <td>5.000000e+00</td>\n",
       "      <td>5.000000e+00</td>\n",
       "      <td>5.770000e+01</td>\n",
       "      <td>7.731700e+04</td>\n",
       "    </tr>\n",
       "  </tbody>\n",
       "</table>\n",
       "</div>"
      ],
      "text/plain": [
       "         brewery_id   review_time  review_overall  review_aroma  \\\n",
       "count  1.586614e+06  1.586614e+06    1.586614e+06  1.586614e+06   \n",
       "mean   3.130099e+03  1.224089e+09    3.815581e+00  3.735636e+00   \n",
       "std    5.578104e+03  7.654427e+07    7.206219e-01  6.976167e-01   \n",
       "min    1.000000e+00  8.406720e+08    0.000000e+00  1.000000e+00   \n",
       "25%    1.430000e+02  1.173224e+09    3.500000e+00  3.500000e+00   \n",
       "50%    4.290000e+02  1.239203e+09    4.000000e+00  4.000000e+00   \n",
       "75%    2.372000e+03  1.288568e+09    4.500000e+00  4.000000e+00   \n",
       "max    2.800300e+04  1.326285e+09    5.000000e+00  5.000000e+00   \n",
       "\n",
       "       review_appearance  review_palate  review_taste      beer_abv  \\\n",
       "count       1.586614e+06   1.586614e+06  1.586614e+06  1.518829e+06   \n",
       "mean        3.841642e+00   3.743701e+00  3.792860e+00  7.042387e+00   \n",
       "std         6.160928e-01   6.822184e-01  7.319696e-01  2.322526e+00   \n",
       "min         0.000000e+00   1.000000e+00  1.000000e+00  1.000000e-02   \n",
       "25%         3.500000e+00   3.500000e+00  3.500000e+00  5.200000e+00   \n",
       "50%         4.000000e+00   4.000000e+00  4.000000e+00  6.500000e+00   \n",
       "75%         4.000000e+00   4.000000e+00  4.500000e+00  8.500000e+00   \n",
       "max         5.000000e+00   5.000000e+00  5.000000e+00  5.770000e+01   \n",
       "\n",
       "        beer_beerid  \n",
       "count  1.586614e+06  \n",
       "mean   2.171279e+04  \n",
       "std    2.181834e+04  \n",
       "min    3.000000e+00  \n",
       "25%    1.717000e+03  \n",
       "50%    1.390600e+04  \n",
       "75%    3.944100e+04  \n",
       "max    7.731700e+04  "
      ]
     },
     "execution_count": 5,
     "metadata": {},
     "output_type": "execute_result"
    }
   ],
   "source": [
    "df.describe()"
   ]
  },
  {
   "cell_type": "code",
   "execution_count": 6,
   "id": "50e160d5-47a8-4c6d-8563-38310ddb0e7a",
   "metadata": {},
   "outputs": [
    {
     "data": {
      "text/html": [
       "<div>\n",
       "<style scoped>\n",
       "    .dataframe tbody tr th:only-of-type {\n",
       "        vertical-align: middle;\n",
       "    }\n",
       "\n",
       "    .dataframe tbody tr th {\n",
       "        vertical-align: top;\n",
       "    }\n",
       "\n",
       "    .dataframe thead th {\n",
       "        text-align: right;\n",
       "    }\n",
       "</style>\n",
       "<table border=\"1\" class=\"dataframe\">\n",
       "  <thead>\n",
       "    <tr style=\"text-align: right;\">\n",
       "      <th></th>\n",
       "      <th>brewery_id</th>\n",
       "      <th>brewery_name</th>\n",
       "      <th>review_time</th>\n",
       "      <th>review_overall</th>\n",
       "      <th>review_aroma</th>\n",
       "      <th>review_appearance</th>\n",
       "      <th>review_profilename</th>\n",
       "      <th>beer_style</th>\n",
       "      <th>review_palate</th>\n",
       "      <th>review_taste</th>\n",
       "      <th>beer_name</th>\n",
       "      <th>beer_abv</th>\n",
       "      <th>beer_beerid</th>\n",
       "    </tr>\n",
       "  </thead>\n",
       "  <tbody>\n",
       "    <tr>\n",
       "      <th>0</th>\n",
       "      <td>10325</td>\n",
       "      <td>Vecchio Birraio</td>\n",
       "      <td>1234817823</td>\n",
       "      <td>1.5</td>\n",
       "      <td>2.0</td>\n",
       "      <td>2.5</td>\n",
       "      <td>stcules</td>\n",
       "      <td>Hefeweizen</td>\n",
       "      <td>1.5</td>\n",
       "      <td>1.5</td>\n",
       "      <td>Sausa Weizen</td>\n",
       "      <td>5.0</td>\n",
       "      <td>47986</td>\n",
       "    </tr>\n",
       "    <tr>\n",
       "      <th>1</th>\n",
       "      <td>10325</td>\n",
       "      <td>Vecchio Birraio</td>\n",
       "      <td>1235915097</td>\n",
       "      <td>3.0</td>\n",
       "      <td>2.5</td>\n",
       "      <td>3.0</td>\n",
       "      <td>stcules</td>\n",
       "      <td>English Strong Ale</td>\n",
       "      <td>3.0</td>\n",
       "      <td>3.0</td>\n",
       "      <td>Red Moon</td>\n",
       "      <td>6.2</td>\n",
       "      <td>48213</td>\n",
       "    </tr>\n",
       "    <tr>\n",
       "      <th>2</th>\n",
       "      <td>10325</td>\n",
       "      <td>Vecchio Birraio</td>\n",
       "      <td>1235916604</td>\n",
       "      <td>3.0</td>\n",
       "      <td>2.5</td>\n",
       "      <td>3.0</td>\n",
       "      <td>stcules</td>\n",
       "      <td>Foreign / Export Stout</td>\n",
       "      <td>3.0</td>\n",
       "      <td>3.0</td>\n",
       "      <td>Black Horse Black Beer</td>\n",
       "      <td>6.5</td>\n",
       "      <td>48215</td>\n",
       "    </tr>\n",
       "    <tr>\n",
       "      <th>3</th>\n",
       "      <td>10325</td>\n",
       "      <td>Vecchio Birraio</td>\n",
       "      <td>1234725145</td>\n",
       "      <td>3.0</td>\n",
       "      <td>3.0</td>\n",
       "      <td>3.5</td>\n",
       "      <td>stcules</td>\n",
       "      <td>German Pilsener</td>\n",
       "      <td>2.5</td>\n",
       "      <td>3.0</td>\n",
       "      <td>Sausa Pils</td>\n",
       "      <td>5.0</td>\n",
       "      <td>47969</td>\n",
       "    </tr>\n",
       "    <tr>\n",
       "      <th>4</th>\n",
       "      <td>1075</td>\n",
       "      <td>Caldera Brewing Company</td>\n",
       "      <td>1293735206</td>\n",
       "      <td>4.0</td>\n",
       "      <td>4.5</td>\n",
       "      <td>4.0</td>\n",
       "      <td>johnmichaelsen</td>\n",
       "      <td>American Double / Imperial IPA</td>\n",
       "      <td>4.0</td>\n",
       "      <td>4.5</td>\n",
       "      <td>Cauldron DIPA</td>\n",
       "      <td>7.7</td>\n",
       "      <td>64883</td>\n",
       "    </tr>\n",
       "  </tbody>\n",
       "</table>\n",
       "</div>"
      ],
      "text/plain": [
       "   brewery_id             brewery_name  review_time  review_overall  \\\n",
       "0       10325          Vecchio Birraio   1234817823             1.5   \n",
       "1       10325          Vecchio Birraio   1235915097             3.0   \n",
       "2       10325          Vecchio Birraio   1235916604             3.0   \n",
       "3       10325          Vecchio Birraio   1234725145             3.0   \n",
       "4        1075  Caldera Brewing Company   1293735206             4.0   \n",
       "\n",
       "   review_aroma  review_appearance review_profilename  \\\n",
       "0           2.0                2.5            stcules   \n",
       "1           2.5                3.0            stcules   \n",
       "2           2.5                3.0            stcules   \n",
       "3           3.0                3.5            stcules   \n",
       "4           4.5                4.0     johnmichaelsen   \n",
       "\n",
       "                       beer_style  review_palate  review_taste  \\\n",
       "0                      Hefeweizen            1.5           1.5   \n",
       "1              English Strong Ale            3.0           3.0   \n",
       "2          Foreign / Export Stout            3.0           3.0   \n",
       "3                 German Pilsener            2.5           3.0   \n",
       "4  American Double / Imperial IPA            4.0           4.5   \n",
       "\n",
       "                beer_name  beer_abv  beer_beerid  \n",
       "0            Sausa Weizen       5.0        47986  \n",
       "1                Red Moon       6.2        48213  \n",
       "2  Black Horse Black Beer       6.5        48215  \n",
       "3              Sausa Pils       5.0        47969  \n",
       "4           Cauldron DIPA       7.7        64883  "
      ]
     },
     "execution_count": 6,
     "metadata": {},
     "output_type": "execute_result"
    }
   ],
   "source": [
    "df.head()"
   ]
  },
  {
   "cell_type": "code",
   "execution_count": 7,
   "id": "46e8018b-35cf-4ba5-8c10-fd71c2a958e9",
   "metadata": {},
   "outputs": [
    {
     "name": "stdout",
     "output_type": "stream",
     "text": [
      "American IPA                        117586\n",
      "American Double / Imperial IPA       85977\n",
      "American Pale Ale (APA)              63469\n",
      "Russian Imperial Stout               54129\n",
      "American Double / Imperial Stout     50705\n",
      "                                     ...  \n",
      "Gose                                   686\n",
      "Faro                                   609\n",
      "Roggenbier                             466\n",
      "Kvass                                  297\n",
      "Happoshu                               241\n",
      "Name: beer_style, Length: 104, dtype: int64\n"
     ]
    }
   ],
   "source": [
    "item_counts = df[\"beer_style\"].value_counts()\n",
    "print(item_counts)"
   ]
  },
  {
   "cell_type": "markdown",
   "id": "c5386783-2e55-402e-9af7-4b9134b7b1da",
   "metadata": {},
   "source": [
    "<h4> 2. Clean Dataset"
   ]
  },
  {
   "cell_type": "code",
   "execution_count": 8,
   "id": "deadbe8b-cb06-477d-88cc-e4bc038a4a89",
   "metadata": {},
   "outputs": [],
   "source": [
    "#Removing columns\n",
    "cols = [\"brewery_name\",\"review_time\",\"beer_name\",\"beer_beerid\", \"review_profilename\",\"brewery_id\"]"
   ]
  },
  {
   "cell_type": "code",
   "execution_count": 9,
   "id": "865e3438-4964-47a5-9ccd-ce3a46abfb59",
   "metadata": {},
   "outputs": [],
   "source": [
    "df_cleaned = df.copy()\n",
    "df_cleaned.drop(cols, axis=1, inplace=True)"
   ]
  },
  {
   "cell_type": "code",
   "execution_count": 10,
   "id": "94df4701-dba6-45cd-9c15-b9880c9ea564",
   "metadata": {},
   "outputs": [
    {
     "data": {
      "text/html": [
       "<div>\n",
       "<style scoped>\n",
       "    .dataframe tbody tr th:only-of-type {\n",
       "        vertical-align: middle;\n",
       "    }\n",
       "\n",
       "    .dataframe tbody tr th {\n",
       "        vertical-align: top;\n",
       "    }\n",
       "\n",
       "    .dataframe thead th {\n",
       "        text-align: right;\n",
       "    }\n",
       "</style>\n",
       "<table border=\"1\" class=\"dataframe\">\n",
       "  <thead>\n",
       "    <tr style=\"text-align: right;\">\n",
       "      <th></th>\n",
       "      <th>review_overall</th>\n",
       "      <th>review_aroma</th>\n",
       "      <th>review_appearance</th>\n",
       "      <th>beer_style</th>\n",
       "      <th>review_palate</th>\n",
       "      <th>review_taste</th>\n",
       "      <th>beer_abv</th>\n",
       "    </tr>\n",
       "  </thead>\n",
       "  <tbody>\n",
       "    <tr>\n",
       "      <th>0</th>\n",
       "      <td>1.5</td>\n",
       "      <td>2.0</td>\n",
       "      <td>2.5</td>\n",
       "      <td>Hefeweizen</td>\n",
       "      <td>1.5</td>\n",
       "      <td>1.5</td>\n",
       "      <td>5.0</td>\n",
       "    </tr>\n",
       "    <tr>\n",
       "      <th>1</th>\n",
       "      <td>3.0</td>\n",
       "      <td>2.5</td>\n",
       "      <td>3.0</td>\n",
       "      <td>English Strong Ale</td>\n",
       "      <td>3.0</td>\n",
       "      <td>3.0</td>\n",
       "      <td>6.2</td>\n",
       "    </tr>\n",
       "    <tr>\n",
       "      <th>2</th>\n",
       "      <td>3.0</td>\n",
       "      <td>2.5</td>\n",
       "      <td>3.0</td>\n",
       "      <td>Foreign / Export Stout</td>\n",
       "      <td>3.0</td>\n",
       "      <td>3.0</td>\n",
       "      <td>6.5</td>\n",
       "    </tr>\n",
       "    <tr>\n",
       "      <th>3</th>\n",
       "      <td>3.0</td>\n",
       "      <td>3.0</td>\n",
       "      <td>3.5</td>\n",
       "      <td>German Pilsener</td>\n",
       "      <td>2.5</td>\n",
       "      <td>3.0</td>\n",
       "      <td>5.0</td>\n",
       "    </tr>\n",
       "    <tr>\n",
       "      <th>4</th>\n",
       "      <td>4.0</td>\n",
       "      <td>4.5</td>\n",
       "      <td>4.0</td>\n",
       "      <td>American Double / Imperial IPA</td>\n",
       "      <td>4.0</td>\n",
       "      <td>4.5</td>\n",
       "      <td>7.7</td>\n",
       "    </tr>\n",
       "  </tbody>\n",
       "</table>\n",
       "</div>"
      ],
      "text/plain": [
       "   review_overall  review_aroma  review_appearance  \\\n",
       "0             1.5           2.0                2.5   \n",
       "1             3.0           2.5                3.0   \n",
       "2             3.0           2.5                3.0   \n",
       "3             3.0           3.0                3.5   \n",
       "4             4.0           4.5                4.0   \n",
       "\n",
       "                       beer_style  review_palate  review_taste  beer_abv  \n",
       "0                      Hefeweizen            1.5           1.5       5.0  \n",
       "1              English Strong Ale            3.0           3.0       6.2  \n",
       "2          Foreign / Export Stout            3.0           3.0       6.5  \n",
       "3                 German Pilsener            2.5           3.0       5.0  \n",
       "4  American Double / Imperial IPA            4.0           4.5       7.7  "
      ]
     },
     "execution_count": 10,
     "metadata": {},
     "output_type": "execute_result"
    }
   ],
   "source": [
    "df_cleaned.head()"
   ]
  },
  {
   "cell_type": "code",
   "execution_count": 11,
   "id": "462276ad-c35a-4bdd-9276-2c1d8eead321",
   "metadata": {},
   "outputs": [],
   "source": [
    "# Standarize Numerical Features\n",
    "from sklearn.preprocessing import StandardScaler\n",
    "from sklearn.preprocessing import LabelEncoder"
   ]
  },
  {
   "cell_type": "code",
   "execution_count": 12,
   "id": "53bad2c1-6868-439d-ab5c-96f44dc22617",
   "metadata": {},
   "outputs": [],
   "source": [
    "le = LabelEncoder()"
   ]
  },
  {
   "cell_type": "code",
   "execution_count": 13,
   "id": "4adfacd8-c5a6-4a12-8027-6db1f909545a",
   "metadata": {},
   "outputs": [],
   "source": [
    "\n",
    "df_cleaned[\"beer_style\"] = le.fit_transform(df_cleaned[\"beer_style\"])"
   ]
  },
  {
   "cell_type": "code",
   "execution_count": 14,
   "id": "3f489aae-faf9-4a71-a7e0-33198677cfd7",
   "metadata": {},
   "outputs": [],
   "source": [
    "# Scale numerical features\n",
    "sc = StandardScaler()\n"
   ]
  },
  {
   "cell_type": "code",
   "execution_count": 15,
   "id": "27c0be68-5da9-4545-86e8-19555ad0ff8c",
   "metadata": {},
   "outputs": [],
   "source": [
    "num_cols = [\"review_overall\",\"review_aroma\",\"review_appearance\",\"review_palate\",\"review_taste\",\"beer_abv\"]"
   ]
  },
  {
   "cell_type": "code",
   "execution_count": 16,
   "id": "6e8337fc-3dde-4c6c-a0c0-5d8eb08a5b0c",
   "metadata": {},
   "outputs": [],
   "source": [
    "df_cleaned[num_cols] = sc.fit_transform(df_cleaned[num_cols])"
   ]
  },
  {
   "cell_type": "code",
   "execution_count": 17,
   "id": "a93c8a44-ef03-455c-b176-5077741540d8",
   "metadata": {},
   "outputs": [
    {
     "data": {
      "text/html": [
       "<div>\n",
       "<style scoped>\n",
       "    .dataframe tbody tr th:only-of-type {\n",
       "        vertical-align: middle;\n",
       "    }\n",
       "\n",
       "    .dataframe tbody tr th {\n",
       "        vertical-align: top;\n",
       "    }\n",
       "\n",
       "    .dataframe thead th {\n",
       "        text-align: right;\n",
       "    }\n",
       "</style>\n",
       "<table border=\"1\" class=\"dataframe\">\n",
       "  <thead>\n",
       "    <tr style=\"text-align: right;\">\n",
       "      <th></th>\n",
       "      <th>review_overall</th>\n",
       "      <th>review_aroma</th>\n",
       "      <th>review_appearance</th>\n",
       "      <th>beer_style</th>\n",
       "      <th>review_palate</th>\n",
       "      <th>review_taste</th>\n",
       "      <th>beer_abv</th>\n",
       "    </tr>\n",
       "  </thead>\n",
       "  <tbody>\n",
       "    <tr>\n",
       "      <th>0</th>\n",
       "      <td>-3.213310</td>\n",
       "      <td>-2.487952</td>\n",
       "      <td>-2.177663</td>\n",
       "      <td>65</td>\n",
       "      <td>-3.288833</td>\n",
       "      <td>-3.132454</td>\n",
       "      <td>-0.879382</td>\n",
       "    </tr>\n",
       "    <tr>\n",
       "      <th>1</th>\n",
       "      <td>-1.131774</td>\n",
       "      <td>-1.771225</td>\n",
       "      <td>-1.366096</td>\n",
       "      <td>51</td>\n",
       "      <td>-1.090123</td>\n",
       "      <td>-1.083188</td>\n",
       "      <td>-0.362703</td>\n",
       "    </tr>\n",
       "    <tr>\n",
       "      <th>2</th>\n",
       "      <td>-1.131774</td>\n",
       "      <td>-1.771225</td>\n",
       "      <td>-1.366096</td>\n",
       "      <td>59</td>\n",
       "      <td>-1.090123</td>\n",
       "      <td>-1.083188</td>\n",
       "      <td>-0.233533</td>\n",
       "    </tr>\n",
       "    <tr>\n",
       "      <th>3</th>\n",
       "      <td>-1.131774</td>\n",
       "      <td>-1.054499</td>\n",
       "      <td>-0.554530</td>\n",
       "      <td>61</td>\n",
       "      <td>-1.823026</td>\n",
       "      <td>-1.083188</td>\n",
       "      <td>-0.879382</td>\n",
       "    </tr>\n",
       "    <tr>\n",
       "      <th>4</th>\n",
       "      <td>0.255917</td>\n",
       "      <td>1.095679</td>\n",
       "      <td>0.257037</td>\n",
       "      <td>9</td>\n",
       "      <td>0.375684</td>\n",
       "      <td>0.966078</td>\n",
       "      <td>0.283146</td>\n",
       "    </tr>\n",
       "  </tbody>\n",
       "</table>\n",
       "</div>"
      ],
      "text/plain": [
       "   review_overall  review_aroma  review_appearance  beer_style  review_palate  \\\n",
       "0       -3.213310     -2.487952          -2.177663          65      -3.288833   \n",
       "1       -1.131774     -1.771225          -1.366096          51      -1.090123   \n",
       "2       -1.131774     -1.771225          -1.366096          59      -1.090123   \n",
       "3       -1.131774     -1.054499          -0.554530          61      -1.823026   \n",
       "4        0.255917      1.095679           0.257037           9       0.375684   \n",
       "\n",
       "   review_taste  beer_abv  \n",
       "0     -3.132454 -0.879382  \n",
       "1     -1.083188 -0.362703  \n",
       "2     -1.083188 -0.233533  \n",
       "3     -1.083188 -0.879382  \n",
       "4      0.966078  0.283146  "
      ]
     },
     "execution_count": 17,
     "metadata": {},
     "output_type": "execute_result"
    }
   ],
   "source": [
    "df_cleaned.head()"
   ]
  },
  {
   "cell_type": "code",
   "execution_count": 18,
   "id": "a75cdecc-5633-4bf2-9b9a-a08c2341df89",
   "metadata": {},
   "outputs": [
    {
     "name": "stdout",
     "output_type": "stream",
     "text": [
      "review_overall         1.643608\n",
      "review_aroma           1.812405\n",
      "review_appearance      1.880169\n",
      "beer_style           103.000000\n",
      "review_palate          1.841491\n",
      "review_taste           1.649167\n",
      "beer_abv              21.811437\n",
      "dtype: float64\n"
     ]
    }
   ],
   "source": [
    "print(df_cleaned.max())"
   ]
  },
  {
   "cell_type": "code",
   "execution_count": 19,
   "id": "acd2c3c1-4a1b-41ed-bd43-74baaca9f3a7",
   "metadata": {},
   "outputs": [],
   "source": [
    "#Select a random sample used for training\n",
    "\n",
    "#1 shuffle df\n",
    "result = df_cleaned.sample(frac=1, random_state = 7)\n",
    "\n",
    "#2 get the first 10 by beer_style\n",
    "result = result.groupby(\"beer_style\").head(10)\n",
    "\n",
    "#3 sort by beer_style\n",
    "df_sample = result.sort_values(\"beer_style\")"
   ]
  },
  {
   "cell_type": "code",
   "execution_count": 20,
   "id": "b21b3838-6113-40a2-ae13-428765883b49",
   "metadata": {},
   "outputs": [],
   "source": [
    "df_sample.reset_index(drop=True,inplace=True)"
   ]
  },
  {
   "cell_type": "code",
   "execution_count": 21,
   "id": "2c4cefd0-007d-4ba2-bca1-1e2405a01745",
   "metadata": {},
   "outputs": [],
   "source": [
    "target = df_sample.pop(\"beer_style\")"
   ]
  },
  {
   "cell_type": "code",
   "execution_count": 22,
   "id": "f54c79ba-4ddb-4d96-847d-1440a7488add",
   "metadata": {},
   "outputs": [],
   "source": [
    "#Spliting data into training and testing sets with 80/20 ratio "
   ]
  },
  {
   "cell_type": "code",
   "execution_count": 23,
   "id": "516c655d-e9e8-447f-9b52-053b9d7970f5",
   "metadata": {},
   "outputs": [],
   "source": [
    "#Import subset function for getting training and evaluate\n",
    "from src.data.sets import split_set"
   ]
  },
  {
   "cell_type": "code",
   "execution_count": 24,
   "id": "c582665e-a0b7-499d-9738-80bbd4d0678e",
   "metadata": {},
   "outputs": [],
   "source": [
    "X_train, X_val, X_test, y_train, y_val, y_test = split_set(df_sample, target)"
   ]
  },
  {
   "cell_type": "code",
   "execution_count": 25,
   "id": "dd96c7cf-5726-496b-8ef5-1a1807e3bb76",
   "metadata": {},
   "outputs": [],
   "source": [
    "#Saving sets into ..data/processed folder"
   ]
  },
  {
   "cell_type": "code",
   "execution_count": 26,
   "id": "39399636-095c-40fd-b7a1-52d8348e906d",
   "metadata": {},
   "outputs": [],
   "source": [
    "#Import saving function for saving sets\n",
    "from src.data.sets import save_sets"
   ]
  },
  {
   "cell_type": "code",
   "execution_count": 27,
   "id": "85fe455f-d3d7-41af-902c-7b2d7eeb5098",
   "metadata": {},
   "outputs": [],
   "source": [
    "save_sets(X_train=X_train, X_val=X_val, y_train=y_train, y_val=y_val, X_test=X_test, y_test=y_test)"
   ]
  },
  {
   "cell_type": "code",
   "execution_count": 28,
   "id": "cc3bbde6-d6f4-424f-8c94-0f89662b0b7b",
   "metadata": {},
   "outputs": [],
   "source": [
    "#Import class from src/models/pytorch and convert all sets to PytorchDatasets\n",
    "from src.models.pytorch import PytorchDataset"
   ]
  },
  {
   "cell_type": "code",
   "execution_count": 29,
   "id": "df1afac8-a68b-4697-a9c1-ffb4ddb24520",
   "metadata": {},
   "outputs": [],
   "source": [
    "train_dataset = PytorchDataset(X=X_train, y=y_train)\n",
    "val_dataset = PytorchDataset(X=X_val, y=y_val)\n",
    "test_dataset = PytorchDataset(X=X_test, y=y_test)"
   ]
  },
  {
   "cell_type": "markdown",
   "id": "f8f1e34a-c948-400a-8d07-954df8be08e6",
   "metadata": {},
   "source": [
    "<h4> 4.0 Baseline Model"
   ]
  },
  {
   "cell_type": "code",
   "execution_count": 30,
   "id": "e655686e-0dfc-4111-8ccf-fc7b9a03af3e",
   "metadata": {},
   "outputs": [],
   "source": [
    "#import null model from src.models.null"
   ]
  },
  {
   "cell_type": "code",
   "execution_count": 31,
   "id": "956772a9-90da-4ce0-a546-bcbaf2c43e3b",
   "metadata": {},
   "outputs": [],
   "source": [
    "#from src.models.null import NullModel"
   ]
  },
  {
   "cell_type": "code",
   "execution_count": 32,
   "id": "7cbab18e-cce0-40f0-bf88-ea87c9cf019a",
   "metadata": {},
   "outputs": [
    {
     "data": {
      "text/plain": [
       "6"
      ]
     },
     "execution_count": 32,
     "metadata": {},
     "output_type": "execute_result"
    }
   ],
   "source": [
    "X_train.shape[1]"
   ]
  },
  {
   "cell_type": "markdown",
   "id": "483c4433-4704-4115-9385-6ad2a52e8c44",
   "metadata": {},
   "source": [
    "<h4> 5.0 Define Architecture"
   ]
  },
  {
   "cell_type": "code",
   "execution_count": 33,
   "id": "d9d62573-d1b3-4c37-a3e1-164c69f1a37e",
   "metadata": {},
   "outputs": [],
   "source": [
    "#Initiate PytorchMulticlass with the correct no of input feature\n",
    "from src.models.pytorch import PytorchMultiClass"
   ]
  },
  {
   "cell_type": "code",
   "execution_count": 34,
   "id": "7117a76f-2792-4432-9f96-aea10ee3a6aa",
   "metadata": {},
   "outputs": [],
   "source": [
    "model = PytorchMultiClass(num_features=X_train.shape[1])"
   ]
  },
  {
   "cell_type": "code",
   "execution_count": 35,
   "id": "7dd97fb6-ec2e-4775-8a7a-726ea2a003f8",
   "metadata": {},
   "outputs": [
    {
     "data": {
      "text/plain": [
       "PytorchMultiClass(\n",
       "  (layer_1): Linear(in_features=6, out_features=34, bias=True)\n",
       "  (layer_out): Linear(in_features=34, out_features=104, bias=True)\n",
       ")"
      ]
     },
     "execution_count": 35,
     "metadata": {},
     "output_type": "execute_result"
    }
   ],
   "source": [
    "# Import get_device() from src.models.pytorch and set model to use de device available\n",
    "from src.models.pytorch import get_device\n",
    "device = get_device()\n",
    "model.to(device)"
   ]
  },
  {
   "cell_type": "code",
   "execution_count": null,
   "id": "3967e57a-fbbf-4c6d-a682-1cee4d21f7f9",
   "metadata": {},
   "outputs": [],
   "source": []
  },
  {
   "cell_type": "markdown",
   "id": "13841173-d96a-488d-889c-f6258dfe1a8f",
   "metadata": {},
   "source": [
    "<h4> Train Model"
   ]
  },
  {
   "cell_type": "code",
   "execution_count": 36,
   "id": "317d9b3a-c275-4f7b-b319-b7287fa91d50",
   "metadata": {},
   "outputs": [],
   "source": [
    "#Import torch\n",
    "\n",
    "import torch\n",
    "import torch.nn as nn\n",
    "import torch.nn.functional as F\n",
    "import torch.optim.lr_scheduler as op"
   ]
  },
  {
   "cell_type": "code",
   "execution_count": 37,
   "id": "6b52d3cf-bd66-4dca-989d-683cc908cdd7",
   "metadata": {},
   "outputs": [],
   "source": [
    "criterion = nn.CrossEntropyLoss()"
   ]
  },
  {
   "cell_type": "code",
   "execution_count": 38,
   "id": "07eb3835-c6ea-4025-84db-8f2f9a121e8e",
   "metadata": {},
   "outputs": [],
   "source": [
    "#Initiate a torch.optim.Adam() optimizer with the model's parameters and 0.1 as learning rate saving it \n",
    "#into a variable called optimizer"
   ]
  },
  {
   "cell_type": "code",
   "execution_count": 39,
   "id": "877b57d6-4b9c-47b5-8ec4-9cdf4cb68086",
   "metadata": {},
   "outputs": [],
   "source": [
    "optimizer = torch.optim.Adam(model.parameters(), lr= 0.01)"
   ]
  },
  {
   "cell_type": "code",
   "execution_count": 40,
   "id": "066c2db4-173b-458d-ac91-80c6ef52c50f",
   "metadata": {},
   "outputs": [],
   "source": [
    "# Create 2 variables N_EPOCHS and BATCH_SIZE \n",
    "N_EPOCHS = 10\n",
    "BATCH_SIZE = 32 "
   ]
  },
  {
   "cell_type": "markdown",
   "id": "6bab0158-cbcc-4846-9f88-24dc53db9d4c",
   "metadata": {},
   "source": [
    "<h5> Create a loop that ill iterate through the number of epochs and will train the model with the training set and asses the performance on the validation sets and print the results"
   ]
  },
  {
   "cell_type": "code",
   "execution_count": 41,
   "id": "80abfd26-846b-4734-8829-4acbaccd43a6",
   "metadata": {},
   "outputs": [],
   "source": [
    "scheduler = op.StepLR(optimizer, 1, gamma=0.1)"
   ]
  },
  {
   "cell_type": "code",
   "execution_count": 42,
   "id": "db35f7fb-69cf-4536-ac19-b5100faa8af4",
   "metadata": {},
   "outputs": [],
   "source": [
    "from src.models.pytorch import train_classification, test_classification"
   ]
  },
  {
   "cell_type": "code",
   "execution_count": 43,
   "id": "d40e5676-74ca-4cf9-9366-9ccfac84926f",
   "metadata": {},
   "outputs": [
    {
     "name": "stdout",
     "output_type": "stream",
     "text": [
      "Epoch: 0\n",
      "\t(train)\t|\tloss:  nan\t|\tAcc: 1.053%\n",
      "\t(valid)\t|\tloss:  nan\t|\tAcc: 1.198%\n",
      "Epoch: 1\n",
      "\t(train)\t|\tloss:  nan\t|\tAcc: 0.902%\n",
      "\t(valid)\t|\tloss:  nan\t|\tAcc: 1.198%\n",
      "Epoch: 2\n",
      "\t(train)\t|\tloss:  nan\t|\tAcc: 0.902%\n",
      "\t(valid)\t|\tloss:  nan\t|\tAcc: 1.198%\n",
      "Epoch: 3\n",
      "\t(train)\t|\tloss:  nan\t|\tAcc: 0.902%\n",
      "\t(valid)\t|\tloss:  nan\t|\tAcc: 1.198%\n",
      "Epoch: 4\n",
      "\t(train)\t|\tloss:  nan\t|\tAcc: 0.902%\n",
      "\t(valid)\t|\tloss:  nan\t|\tAcc: 1.198%\n",
      "Epoch: 5\n",
      "\t(train)\t|\tloss:  nan\t|\tAcc: 0.902%\n",
      "\t(valid)\t|\tloss:  nan\t|\tAcc: 1.198%\n",
      "Epoch: 6\n",
      "\t(train)\t|\tloss:  nan\t|\tAcc: 0.902%\n",
      "\t(valid)\t|\tloss:  nan\t|\tAcc: 1.198%\n",
      "Epoch: 7\n",
      "\t(train)\t|\tloss:  nan\t|\tAcc: 0.902%\n",
      "\t(valid)\t|\tloss:  nan\t|\tAcc: 1.198%\n",
      "Epoch: 8\n",
      "\t(train)\t|\tloss:  nan\t|\tAcc: 0.902%\n",
      "\t(valid)\t|\tloss:  nan\t|\tAcc: 1.198%\n",
      "Epoch: 9\n",
      "\t(train)\t|\tloss:  nan\t|\tAcc: 0.902%\n",
      "\t(valid)\t|\tloss:  nan\t|\tAcc: 1.198%\n"
     ]
    }
   ],
   "source": [
    "for epoch in range(N_EPOCHS):\n",
    "    train_loss, train_acc = train_classification(train_dataset, model=model, criterion= criterion, optimizer=optimizer, batch_size=BATCH_SIZE, device=device, scheduler=scheduler )\n",
    "    valid_loss, valid_acc = test_classification(val_dataset, model=model, criterion= criterion, batch_size=BATCH_SIZE, device=device )\n",
    "    print(f'Epoch: {epoch}')\n",
    "    print(f'\\t(train)\\t|\\tloss: {train_loss: .4f}\\t|\\tAcc: {train_acc * 100:.3f}%')\n",
    "    print(f'\\t(valid)\\t|\\tloss: {valid_loss: .4f}\\t|\\tAcc: {valid_acc * 100:.3f}%')\n",
    "    "
   ]
  },
  {
   "cell_type": "markdown",
   "id": "bb9ecfc4-9023-4ef8-966c-d08be773a560",
   "metadata": {},
   "source": [
    "<h4> Save model into models folder"
   ]
  },
  {
   "cell_type": "code",
   "execution_count": 44,
   "id": "81e0dec6-10ba-4ab3-9327-eca15337bcb6",
   "metadata": {},
   "outputs": [],
   "source": [
    "torch.save(model, \"../models/pytorch_multi_class_beer\")"
   ]
  },
  {
   "cell_type": "code",
   "execution_count": 45,
   "id": "a926bc1c-baf7-4cc7-aa50-46877141cc1f",
   "metadata": {},
   "outputs": [],
   "source": [
    "#Asses model performance on testing set and print results"
   ]
  },
  {
   "cell_type": "code",
   "execution_count": 46,
   "id": "4f19d9b2-5c17-4ded-ba20-9ed1d77c77e1",
   "metadata": {},
   "outputs": [
    {
     "name": "stdout",
     "output_type": "stream",
     "text": [
      "\t(test)\t|\tloss:  nan\t|\tAccuracy: 0.962%\n"
     ]
    }
   ],
   "source": [
    "test_loss, test_acc = test_classification(test_dataset, model=model, criterion= criterion, batch_size=BATCH_SIZE, device=device )\n",
    "print(f'\\t(test)\\t|\\tloss: {test_loss: .4f}\\t|\\tAccuracy: {test_acc * 100:.3f}%')\n"
   ]
  },
  {
   "cell_type": "code",
   "execution_count": null,
   "id": "c3cf980b-33df-4444-bd18-ee1d82ade136",
   "metadata": {},
   "outputs": [],
   "source": []
  },
  {
   "cell_type": "code",
   "execution_count": null,
   "id": "3ad890d4-3341-4524-b193-de8adae7ae56",
   "metadata": {},
   "outputs": [],
   "source": []
  },
  {
   "cell_type": "code",
   "execution_count": 47,
   "id": "b27d5c59-72ba-458b-81e8-3c8493a35315",
   "metadata": {},
   "outputs": [],
   "source": [
    "#Import Datset and DataLoader\n",
    "from torch.utils.data import Dataset, DataLoader"
   ]
  },
  {
   "cell_type": "code",
   "execution_count": null,
   "id": "bdd337d2-d8fc-419e-87e1-4af5d41462fb",
   "metadata": {},
   "outputs": [],
   "source": []
  },
  {
   "cell_type": "code",
   "execution_count": 48,
   "id": "f34b0bdc-5bd9-41dc-a1d9-84f6577306b3",
   "metadata": {},
   "outputs": [],
   "source": [
    "#Import Pytorch Dataset\n",
    "from src.models.pytorch import PytorchDataset"
   ]
  },
  {
   "cell_type": "code",
   "execution_count": null,
   "id": "7eaff346-b637-427f-9eaa-f28613a95110",
   "metadata": {},
   "outputs": [],
   "source": []
  },
  {
   "cell_type": "code",
   "execution_count": 49,
   "id": "ce384c1a-c513-457c-8d3e-e80f65c393c8",
   "metadata": {},
   "outputs": [],
   "source": [
    "#optimizer = torch.optim.Adam(model.parameters(), lr = 0.001)"
   ]
  },
  {
   "cell_type": "code",
   "execution_count": null,
   "id": "2330b485-077a-4a66-8f8d-af4f8d9d2b7b",
   "metadata": {},
   "outputs": [],
   "source": []
  },
  {
   "cell_type": "code",
   "execution_count": null,
   "id": "8899b59f-fd7c-4bc5-a6c7-200269774c76",
   "metadata": {},
   "outputs": [],
   "source": []
  },
  {
   "cell_type": "code",
   "execution_count": null,
   "id": "769061ef-2928-42b0-86d7-f980cbe856e2",
   "metadata": {},
   "outputs": [],
   "source": []
  },
  {
   "cell_type": "code",
   "execution_count": null,
   "id": "55ee1c90-4381-4296-b9ed-179267d6ca81",
   "metadata": {},
   "outputs": [],
   "source": []
  },
  {
   "cell_type": "code",
   "execution_count": 50,
   "id": "0b5ef62f-6c49-4d8e-90b4-7ec212b215d8",
   "metadata": {},
   "outputs": [],
   "source": [
    "# Scaling sets with scaler model saved for the baseline"
   ]
  },
  {
   "cell_type": "code",
   "execution_count": 51,
   "id": "fab230b5-6fff-406a-bf2a-08cdfe6abc8b",
   "metadata": {},
   "outputs": [],
   "source": [
    "#import joblib\n",
    "#scaler = joblib.load('../models/scaler.joblib') "
   ]
  },
  {
   "cell_type": "code",
   "execution_count": null,
   "id": "a4046f7c-f1b6-4db9-9197-f8dde4b6ff2d",
   "metadata": {},
   "outputs": [],
   "source": []
  },
  {
   "cell_type": "code",
   "execution_count": null,
   "id": "5234e160-3e8b-43dc-a25b-09bcc751a0f5",
   "metadata": {},
   "outputs": [],
   "source": []
  },
  {
   "cell_type": "code",
   "execution_count": null,
   "id": "b00b24b0-7531-4edb-b0cf-f38e806e82e9",
   "metadata": {},
   "outputs": [],
   "source": []
  },
  {
   "cell_type": "code",
   "execution_count": null,
   "id": "351f4c84-2567-4830-90a5-5d9350512e69",
   "metadata": {},
   "outputs": [],
   "source": []
  },
  {
   "cell_type": "code",
   "execution_count": null,
   "id": "5b78cfeb-d6cb-43a1-a799-e8a69e317d82",
   "metadata": {},
   "outputs": [],
   "source": []
  },
  {
   "cell_type": "code",
   "execution_count": null,
   "id": "d35620f0-8694-412c-97c6-0a2c3563ef9f",
   "metadata": {},
   "outputs": [],
   "source": []
  }
 ],
 "metadata": {
  "kernelspec": {
   "display_name": "Python 3 (ipykernel)",
   "language": "python",
   "name": "python3"
  },
  "language_info": {
   "codemirror_mode": {
    "name": "ipython",
    "version": 3
   },
   "file_extension": ".py",
   "mimetype": "text/x-python",
   "name": "python",
   "nbconvert_exporter": "python",
   "pygments_lexer": "ipython3",
   "version": "3.10.6"
  }
 },
 "nbformat": 4,
 "nbformat_minor": 5
}
